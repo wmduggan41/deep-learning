{
  "nbformat": 4,
  "nbformat_minor": 0,
  "metadata": {
    "kernelspec": {
      "display_name": "Python 3",
      "language": "python",
      "name": "python3"
    },
    "language_info": {
      "codemirror_mode": {
        "name": "ipython",
        "version": 3
      },
      "file_extension": ".py",
      "mimetype": "text/x-python",
      "name": "python",
      "nbconvert_exporter": "python",
      "pygments_lexer": "ipython3",
      "version": "3.7.4"
    },
    "colab": {
      "provenance": []
    },
    "accelerator": "GPU"
  },
  "cells": [
    {
      "cell_type": "markdown",
      "metadata": {
        "id": "Tajfsk_7JY3E"
      },
      "source": [
        "**Note to grader:** Each question consists of parts, e.g. Q1(i), Q1(ii), etc. Each part must be first graded  on a 0-4 scale, following the standard NJIT convention (A:4, B+: 3.5, B:3, C+: 2.5, C: 2, D:1, F:0). However, any given item may be worth 4 or 8 points; if an item is worth 8 points, you need to accordingly scale the 0-4 grade.\n",
        "\n",
        "\n",
        "The total score must be re-scaled to 100. That should apply to all future assignments so that Canvas assigns the same weight on all assignments. \n",
        "\n"
      ]
    },
    {
      "cell_type": "markdown",
      "metadata": {
        "id": "SArgW_Vq-uTh"
      },
      "source": [
        "# Assignment 2\n",
        "\n"
      ]
    },
    {
      "cell_type": "markdown",
      "source": [
        "### Preparation Steps\n"
      ],
      "metadata": {
        "id": "fKHAiVXNz-2i"
      }
    },
    {
      "cell_type": "markdown",
      "source": [
        "\n",
        "\n",
        "We will work with this [mystery dataset](https://drive.google.com/open?id=1W3oWk0_y-g6eFzYXotmLiOE46S1tfkL4&authuser=ikoutis%40njit.edu&usp=drive_fs) that you can download and place to your google drive. You can then put it somewhere on your google drive and bring it into your Colab by following the steps in the following cell. \n",
        "\n"
      ],
      "metadata": {
        "id": "5xtT_YAhmmXs"
      }
    },
    {
      "cell_type": "code",
      "source": [
        "!pip install d2l==0.16.1\n",
        "!pip install torch-optim"
      ],
      "metadata": {
        "id": "noDA_SHxzmnn",
        "colab": {
          "base_uri": "https://localhost:8080/"
        },
        "outputId": "744a04d0-0678-4a89-da63-a9ce0d5db5f7"
      },
      "execution_count": null,
      "outputs": [
        {
          "output_type": "stream",
          "name": "stdout",
          "text": [
            "Looking in indexes: https://pypi.org/simple, https://us-python.pkg.dev/colab-wheels/public/simple/\n",
            "Requirement already satisfied: d2l==0.16.1 in /usr/local/lib/python3.7/dist-packages (0.16.1)\n",
            "Requirement already satisfied: numpy in /usr/local/lib/python3.7/dist-packages (from d2l==0.16.1) (1.21.6)\n",
            "Requirement already satisfied: matplotlib in /usr/local/lib/python3.7/dist-packages (from d2l==0.16.1) (3.2.2)\n",
            "Requirement already satisfied: jupyter in /usr/local/lib/python3.7/dist-packages (from d2l==0.16.1) (1.0.0)\n",
            "Requirement already satisfied: pandas in /usr/local/lib/python3.7/dist-packages (from d2l==0.16.1) (1.3.5)\n",
            "Requirement already satisfied: qtconsole in /usr/local/lib/python3.7/dist-packages (from jupyter->d2l==0.16.1) (5.3.2)\n",
            "Requirement already satisfied: notebook in /usr/local/lib/python3.7/dist-packages (from jupyter->d2l==0.16.1) (5.3.1)\n",
            "Requirement already satisfied: ipykernel in /usr/local/lib/python3.7/dist-packages (from jupyter->d2l==0.16.1) (5.3.4)\n",
            "Requirement already satisfied: ipywidgets in /usr/local/lib/python3.7/dist-packages (from jupyter->d2l==0.16.1) (7.7.1)\n",
            "Requirement already satisfied: jupyter-console in /usr/local/lib/python3.7/dist-packages (from jupyter->d2l==0.16.1) (6.1.0)\n",
            "Requirement already satisfied: nbconvert in /usr/local/lib/python3.7/dist-packages (from jupyter->d2l==0.16.1) (5.6.1)\n",
            "Requirement already satisfied: traitlets>=4.1.0 in /usr/local/lib/python3.7/dist-packages (from ipykernel->jupyter->d2l==0.16.1) (5.1.1)\n",
            "Requirement already satisfied: ipython>=5.0.0 in /usr/local/lib/python3.7/dist-packages (from ipykernel->jupyter->d2l==0.16.1) (7.9.0)\n",
            "Requirement already satisfied: tornado>=4.2 in /usr/local/lib/python3.7/dist-packages (from ipykernel->jupyter->d2l==0.16.1) (5.1.1)\n",
            "Requirement already satisfied: jupyter-client in /usr/local/lib/python3.7/dist-packages (from ipykernel->jupyter->d2l==0.16.1) (6.1.12)\n",
            "Requirement already satisfied: decorator in /usr/local/lib/python3.7/dist-packages (from ipython>=5.0.0->ipykernel->jupyter->d2l==0.16.1) (4.4.2)\n",
            "Requirement already satisfied: backcall in /usr/local/lib/python3.7/dist-packages (from ipython>=5.0.0->ipykernel->jupyter->d2l==0.16.1) (0.2.0)\n",
            "Requirement already satisfied: prompt-toolkit<2.1.0,>=2.0.0 in /usr/local/lib/python3.7/dist-packages (from ipython>=5.0.0->ipykernel->jupyter->d2l==0.16.1) (2.0.10)\n",
            "Requirement already satisfied: setuptools>=18.5 in /usr/local/lib/python3.7/dist-packages (from ipython>=5.0.0->ipykernel->jupyter->d2l==0.16.1) (57.4.0)\n",
            "Requirement already satisfied: pexpect in /usr/local/lib/python3.7/dist-packages (from ipython>=5.0.0->ipykernel->jupyter->d2l==0.16.1) (4.8.0)\n",
            "Requirement already satisfied: pygments in /usr/local/lib/python3.7/dist-packages (from ipython>=5.0.0->ipykernel->jupyter->d2l==0.16.1) (2.6.1)\n",
            "Requirement already satisfied: jedi>=0.10 in /usr/local/lib/python3.7/dist-packages (from ipython>=5.0.0->ipykernel->jupyter->d2l==0.16.1) (0.18.1)\n",
            "Requirement already satisfied: pickleshare in /usr/local/lib/python3.7/dist-packages (from ipython>=5.0.0->ipykernel->jupyter->d2l==0.16.1) (0.7.5)\n",
            "Requirement already satisfied: parso<0.9.0,>=0.8.0 in /usr/local/lib/python3.7/dist-packages (from jedi>=0.10->ipython>=5.0.0->ipykernel->jupyter->d2l==0.16.1) (0.8.3)\n",
            "Requirement already satisfied: wcwidth in /usr/local/lib/python3.7/dist-packages (from prompt-toolkit<2.1.0,>=2.0.0->ipython>=5.0.0->ipykernel->jupyter->d2l==0.16.1) (0.2.5)\n",
            "Requirement already satisfied: six>=1.9.0 in /usr/local/lib/python3.7/dist-packages (from prompt-toolkit<2.1.0,>=2.0.0->ipython>=5.0.0->ipykernel->jupyter->d2l==0.16.1) (1.15.0)\n",
            "Requirement already satisfied: ipython-genutils~=0.2.0 in /usr/local/lib/python3.7/dist-packages (from ipywidgets->jupyter->d2l==0.16.1) (0.2.0)\n",
            "Requirement already satisfied: jupyterlab-widgets>=1.0.0 in /usr/local/lib/python3.7/dist-packages (from ipywidgets->jupyter->d2l==0.16.1) (3.0.3)\n",
            "Requirement already satisfied: widgetsnbextension~=3.6.0 in /usr/local/lib/python3.7/dist-packages (from ipywidgets->jupyter->d2l==0.16.1) (3.6.1)\n",
            "Requirement already satisfied: terminado>=0.8.1 in /usr/local/lib/python3.7/dist-packages (from notebook->jupyter->d2l==0.16.1) (0.13.3)\n",
            "Requirement already satisfied: Send2Trash in /usr/local/lib/python3.7/dist-packages (from notebook->jupyter->d2l==0.16.1) (1.8.0)\n",
            "Requirement already satisfied: nbformat in /usr/local/lib/python3.7/dist-packages (from notebook->jupyter->d2l==0.16.1) (5.6.1)\n",
            "Requirement already satisfied: jupyter-core>=4.4.0 in /usr/local/lib/python3.7/dist-packages (from notebook->jupyter->d2l==0.16.1) (4.11.1)\n",
            "Requirement already satisfied: jinja2 in /usr/local/lib/python3.7/dist-packages (from notebook->jupyter->d2l==0.16.1) (2.11.3)\n",
            "Requirement already satisfied: python-dateutil>=2.1 in /usr/local/lib/python3.7/dist-packages (from jupyter-client->ipykernel->jupyter->d2l==0.16.1) (2.8.2)\n",
            "Requirement already satisfied: pyzmq>=13 in /usr/local/lib/python3.7/dist-packages (from jupyter-client->ipykernel->jupyter->d2l==0.16.1) (23.2.1)\n",
            "Requirement already satisfied: ptyprocess in /usr/local/lib/python3.7/dist-packages (from terminado>=0.8.1->notebook->jupyter->d2l==0.16.1) (0.7.0)\n",
            "Requirement already satisfied: MarkupSafe>=0.23 in /usr/local/lib/python3.7/dist-packages (from jinja2->notebook->jupyter->d2l==0.16.1) (2.0.1)\n",
            "Requirement already satisfied: kiwisolver>=1.0.1 in /usr/local/lib/python3.7/dist-packages (from matplotlib->d2l==0.16.1) (1.4.4)\n",
            "Requirement already satisfied: cycler>=0.10 in /usr/local/lib/python3.7/dist-packages (from matplotlib->d2l==0.16.1) (0.11.0)\n",
            "Requirement already satisfied: pyparsing!=2.0.4,!=2.1.2,!=2.1.6,>=2.0.1 in /usr/local/lib/python3.7/dist-packages (from matplotlib->d2l==0.16.1) (3.0.9)\n",
            "Requirement already satisfied: typing-extensions in /usr/local/lib/python3.7/dist-packages (from kiwisolver>=1.0.1->matplotlib->d2l==0.16.1) (4.1.1)\n",
            "Requirement already satisfied: entrypoints>=0.2.2 in /usr/local/lib/python3.7/dist-packages (from nbconvert->jupyter->d2l==0.16.1) (0.4)\n",
            "Requirement already satisfied: defusedxml in /usr/local/lib/python3.7/dist-packages (from nbconvert->jupyter->d2l==0.16.1) (0.7.1)\n",
            "Requirement already satisfied: mistune<2,>=0.8.1 in /usr/local/lib/python3.7/dist-packages (from nbconvert->jupyter->d2l==0.16.1) (0.8.4)\n",
            "Requirement already satisfied: testpath in /usr/local/lib/python3.7/dist-packages (from nbconvert->jupyter->d2l==0.16.1) (0.6.0)\n",
            "Requirement already satisfied: pandocfilters>=1.4.1 in /usr/local/lib/python3.7/dist-packages (from nbconvert->jupyter->d2l==0.16.1) (1.5.0)\n",
            "Requirement already satisfied: bleach in /usr/local/lib/python3.7/dist-packages (from nbconvert->jupyter->d2l==0.16.1) (5.0.1)\n",
            "Requirement already satisfied: importlib-metadata>=3.6 in /usr/local/lib/python3.7/dist-packages (from nbformat->notebook->jupyter->d2l==0.16.1) (5.0.0)\n",
            "Requirement already satisfied: jsonschema>=2.6 in /usr/local/lib/python3.7/dist-packages (from nbformat->notebook->jupyter->d2l==0.16.1) (4.3.3)\n",
            "Requirement already satisfied: fastjsonschema in /usr/local/lib/python3.7/dist-packages (from nbformat->notebook->jupyter->d2l==0.16.1) (2.16.2)\n",
            "Requirement already satisfied: zipp>=0.5 in /usr/local/lib/python3.7/dist-packages (from importlib-metadata>=3.6->nbformat->notebook->jupyter->d2l==0.16.1) (3.8.1)\n",
            "Requirement already satisfied: attrs>=17.4.0 in /usr/local/lib/python3.7/dist-packages (from jsonschema>=2.6->nbformat->notebook->jupyter->d2l==0.16.1) (22.1.0)\n",
            "Requirement already satisfied: importlib-resources>=1.4.0 in /usr/local/lib/python3.7/dist-packages (from jsonschema>=2.6->nbformat->notebook->jupyter->d2l==0.16.1) (5.9.0)\n",
            "Requirement already satisfied: pyrsistent!=0.17.0,!=0.17.1,!=0.17.2,>=0.14.0 in /usr/local/lib/python3.7/dist-packages (from jsonschema>=2.6->nbformat->notebook->jupyter->d2l==0.16.1) (0.18.1)\n",
            "Requirement already satisfied: webencodings in /usr/local/lib/python3.7/dist-packages (from bleach->nbconvert->jupyter->d2l==0.16.1) (0.5.1)\n",
            "Requirement already satisfied: pytz>=2017.3 in /usr/local/lib/python3.7/dist-packages (from pandas->d2l==0.16.1) (2022.4)\n",
            "Requirement already satisfied: qtpy>=2.0.1 in /usr/local/lib/python3.7/dist-packages (from qtconsole->jupyter->d2l==0.16.1) (2.2.1)\n",
            "Requirement already satisfied: packaging in /usr/local/lib/python3.7/dist-packages (from qtpy>=2.0.1->qtconsole->jupyter->d2l==0.16.1) (21.3)\n",
            "Looking in indexes: https://pypi.org/simple, https://us-python.pkg.dev/colab-wheels/public/simple/\n",
            "Requirement already satisfied: torch-optim in /usr/local/lib/python3.7/dist-packages (0.0.4)\n",
            "Requirement already satisfied: torchvision>=0.11.1 in /usr/local/lib/python3.7/dist-packages (from torch-optim) (0.13.1+cu113)\n",
            "Requirement already satisfied: torch-pruning>=0.2.7 in /usr/local/lib/python3.7/dist-packages (from torch-optim) (0.2.8)\n",
            "Requirement already satisfied: deap>=1.3.1 in /usr/local/lib/python3.7/dist-packages (from torch-optim) (1.3.3)\n",
            "Requirement already satisfied: torch>=1.10.0 in /usr/local/lib/python3.7/dist-packages (from torch-optim) (1.12.1+cu113)\n",
            "Requirement already satisfied: thop>=0.0.31 in /usr/local/lib/python3.7/dist-packages (from torch-optim) (0.1.1.post2209072238)\n",
            "Requirement already satisfied: pytorch-ignite>=0.4.8 in /usr/local/lib/python3.7/dist-packages (from torch-optim) (0.4.10)\n",
            "Requirement already satisfied: numpy in /usr/local/lib/python3.7/dist-packages (from deap>=1.3.1->torch-optim) (1.21.6)\n",
            "Requirement already satisfied: packaging in /usr/local/lib/python3.7/dist-packages (from pytorch-ignite>=0.4.8->torch-optim) (21.3)\n",
            "Requirement already satisfied: typing-extensions in /usr/local/lib/python3.7/dist-packages (from torch>=1.10.0->torch-optim) (4.1.1)\n",
            "Requirement already satisfied: requests in /usr/local/lib/python3.7/dist-packages (from torchvision>=0.11.1->torch-optim) (2.23.0)\n",
            "Requirement already satisfied: pillow!=8.3.*,>=5.3.0 in /usr/local/lib/python3.7/dist-packages (from torchvision>=0.11.1->torch-optim) (7.1.2)\n",
            "Requirement already satisfied: pyparsing!=3.0.5,>=2.0.2 in /usr/local/lib/python3.7/dist-packages (from packaging->pytorch-ignite>=0.4.8->torch-optim) (3.0.9)\n",
            "Requirement already satisfied: idna<3,>=2.5 in /usr/local/lib/python3.7/dist-packages (from requests->torchvision>=0.11.1->torch-optim) (2.10)\n",
            "Requirement already satisfied: certifi>=2017.4.17 in /usr/local/lib/python3.7/dist-packages (from requests->torchvision>=0.11.1->torch-optim) (2022.9.24)\n",
            "Requirement already satisfied: urllib3!=1.25.0,!=1.25.1,<1.26,>=1.21.1 in /usr/local/lib/python3.7/dist-packages (from requests->torchvision>=0.11.1->torch-optim) (1.24.3)\n",
            "Requirement already satisfied: chardet<4,>=3.0.2 in /usr/local/lib/python3.7/dist-packages (from requests->torchvision>=0.11.1->torch-optim) (3.0.4)\n"
          ]
        }
      ]
    },
    {
      "cell_type": "code",
      "source": [
        "import torch \n",
        "import torch.nn.functional as F\n",
        "import torch.nn as nn\n",
        "import torchvision\n",
        "import torchvision.transforms as transforms\n",
        "import numpy as np\n",
        "import matplotlib.pyplot as plt\n",
        "from datetime import datetime\n",
        "from d2l import torch as d2l\n",
        "from torch.utils.data import DataLoader\n",
        "from torch.utils.data import Dataset, TensorDataset\n",
        "from torchopt import utils"
      ],
      "metadata": {
        "id": "C20aEPMG0z2W"
      },
      "execution_count": null,
      "outputs": []
    },
    {
      "cell_type": "code",
      "source": [
        "# Import dataset\n",
        "from google.colab import drive\n",
        "drive.mount('/content/gdrive', force_remount=True)\n",
        "\n",
        "import scipy.io\n",
        "\n",
        "# Mount dataset\n",
        "mat = scipy.io.loadmat('/content/gdrive/MyDrive/mysteryDataset.mat')"
      ],
      "metadata": {
        "id": "5AMaVk7jmn_D",
        "outputId": "9af87983-cd82-4a0f-eed2-7deb4dcc5bac",
        "colab": {
          "base_uri": "https://localhost:8080/"
        }
      },
      "execution_count": null,
      "outputs": [
        {
          "output_type": "stream",
          "name": "stdout",
          "text": [
            "Mounted at /content/gdrive\n"
          ]
        }
      ]
    },
    {
      "cell_type": "code",
      "source": [
        "# Checking to see X loaded\n",
        "mat.get('X')"
      ],
      "metadata": {
        "colab": {
          "base_uri": "https://localhost:8080/"
        },
        "id": "ez-Tv1JemEuE",
        "outputId": "895dbf09-a240-4fb0-9217-859bb51018c4"
      },
      "execution_count": null,
      "outputs": [
        {
          "output_type": "execute_result",
          "data": {
            "text/plain": [
              "array([[-1.17172086e-05, -7.25280867e-06,  5.12661752e-06, ...,\n",
              "         1.70093676e-05,  7.50423711e-06, -4.17924402e-06],\n",
              "       [-1.11324893e-05, -4.08813759e-06,  2.02800221e-06, ...,\n",
              "         2.45011219e-05, -2.71210886e-05, -2.85269672e-04],\n",
              "       [-1.15048231e-05, -5.82459697e-06,  4.93125101e-06, ...,\n",
              "         3.37573241e-05,  1.78887911e-05,  6.14671185e-05],\n",
              "       ...,\n",
              "       [-1.14174907e-05, -6.78472981e-06,  5.12786880e-06, ...,\n",
              "         1.16537868e-05,  6.25054001e-06, -2.89840892e-05],\n",
              "       [-1.17641029e-05, -7.40347110e-06,  5.22326732e-06, ...,\n",
              "         2.08183710e-05,  8.13903339e-06, -4.64360505e-06],\n",
              "       [-1.16459906e-05, -4.51781688e-06,  4.84513313e-06, ...,\n",
              "        -3.50333767e-05,  3.68047036e-06,  1.20300889e-04]])"
            ]
          },
          "metadata": {},
          "execution_count": 4
        }
      ]
    },
    {
      "cell_type": "markdown",
      "source": [
        "The file contains \n",
        "\n",
        "* Two matrices $X$ and $X_1$ of numerical features. These datasets have the same dimensions (196343x128) but they are different. \n",
        "* An array $y$ of labels, ranging from 0-39. \n",
        "* The indices $otrain$ of a training set. These indices tell you what rows of the arrays $X,X_1,y$ correspond to the training points. You can use these to make two different training sets $(X[train], y[train])$ and $(X_1[train], y[train])$\n",
        "* Similarly, it contains the indexes for a validation and a test set, $ovalid$ and $otest$ respectively. \n",
        "\n",
        "The following cell shows how to access these arrays and assign them to local numpy objects. "
      ],
      "metadata": {
        "id": "AsLbaghZrO-L"
      }
    },
    {
      "cell_type": "code",
      "source": [
        "# this is an example\n",
        "#ft = mat.get('x')"
      ],
      "metadata": {
        "id": "d0jvswNpwsOm"
      },
      "execution_count": null,
      "outputs": []
    },
    {
      "cell_type": "markdown",
      "source": [
        "## <font color = 'blue'> Question 1. Import the dataset and conver to torch tensors </font>\n",
        "\n",
        "Your task for this question is to adapt the above preparation steps, import all mentioned variables into numpy arrays, and then transform them to PyTorch tensors. \n"
      ],
      "metadata": {
        "id": "ALSnNeSw0JoQ"
      }
    },
    {
      "cell_type": "code",
      "source": [
        "device = torch.device(\"cuda:0\" if torch.cuda.is_available() else \"cpu\")\n",
        "print(device)"
      ],
      "metadata": {
        "colab": {
          "base_uri": "https://localhost:8080/"
        },
        "id": "6Mu71TJmhbXl",
        "outputId": "af781ebc-fd45-4258-be15-f41f2287adab"
      },
      "execution_count": null,
      "outputs": [
        {
          "output_type": "stream",
          "name": "stdout",
          "text": [
            "cuda:0\n"
          ]
        }
      ]
    },
    {
      "cell_type": "code",
      "source": [
        "# Load data as numpy arrays\n",
        "X = mat['X']\n",
        "X1 = mat['X1']\n",
        "y = mat['y']\n",
        "train_indices = mat['otrain']\n",
        "val_indices = mat['ovalid']\n",
        "test_indices = mat['otest']"
      ],
      "metadata": {
        "id": "KMN8kQ9UkJb1"
      },
      "execution_count": null,
      "outputs": []
    },
    {
      "cell_type": "code",
      "source": [
        "# Split into train, validation, and tests sets by indices\n",
        "X_train, y_train = X[train_indices[0]], y[train_indices[0]]\n",
        "X_valid, y_valid = X[val_indices[0]], y[val_indices[0]]\n",
        "X_test, y_test = X[test_indices[0]], y[test_indices[0]]\n",
        "\n",
        "# Print the shapes\n",
        "print(\"X_train, y_train shape: {}\".format(X_train.shape, y_train.shape))\n",
        "print(\"X_valid shape, y_valid shape: {}\".format(X_valid.shape, y_valid.shape))\n",
        "print(\"X_test shape, y_test shape: {}\".format(X_test.shape, y_test.shape))\n",
        "del X\n",
        "del y\n",
        "\n",
        "X1_train = X1[train_indices[0]]\n",
        "X1_valid = X1[val_indices[0]]\n",
        "X1_test = X1[test_indices[0]]\n",
        "\n",
        "print(\"X1_train shape: {}\".format(X1_train.shape))\n",
        "print(\"X1_valid shape: {}\".format(X1_valid.shape))\n",
        "print(\"X1_test shape: {}\".format(X1_test.shape))\n",
        "del X1"
      ],
      "metadata": {
        "colab": {
          "base_uri": "https://localhost:8080/"
        },
        "id": "l5I2Gc8_G5Ih",
        "outputId": "b3810e81-ded7-4bb6-bd50-1efd0d5df2ca"
      },
      "execution_count": null,
      "outputs": [
        {
          "output_type": "stream",
          "name": "stdout",
          "text": [
            "X_train, y_train shape: (90941, 200)\n",
            "X_valid shape, y_valid shape: (29799, 200)\n",
            "X_test shape, y_test shape: (48603, 200)\n",
            "X1_train shape: (90941, 128)\n",
            "X1_valid shape: (29799, 128)\n",
            "X1_test shape: (48603, 128)\n"
          ]
        }
      ]
    },
    {
      "cell_type": "code",
      "source": [
        "# Storing tensors in single precision fp32 and the labels long tensor\n",
        "X_train_tensor, y_train_tensor = torch.from_numpy(X_train).type(torch.float32), torch.from_numpy(y_train).type(torch.LongTensor)\n",
        "X_val_tensor, y_val_tensor = torch.from_numpy(X_valid).type(torch.float32), torch.from_numpy(y_valid).type(torch.LongTensor)\n",
        "X_test_tensor, y_test_tensor = torch.from_numpy(X_test).type(torch.float32), torch.from_numpy(y_test).type(torch.LongTensor)\n",
        "\n",
        "X1_train_tensor, y_train_tensor = torch.from_numpy(X1_train).type(torch.float32), torch.from_numpy(y_train).type(torch.LongTensor)\n",
        "X1_val_tensor, y_val_tensor = torch.from_numpy(X1_valid).type(torch.float32), torch.from_numpy(y_valid).type(torch.LongTensor)\n",
        "X1_test_tensor, y_test_tensor = torch.from_numpy(X1_test).type(torch.float32), torch.from_numpy(y_test).type(torch.LongTensor)\n",
        "\n",
        "del X_train \n",
        "del X1_train \n",
        "del y_train \n",
        "\n",
        "del X_valid \n",
        "del X1_valid \n",
        "del y_valid \n",
        "\n",
        "del X_test\n",
        "del X1_test \n",
        "del y_test"
      ],
      "metadata": {
        "id": "G3V3eOs2WHWE"
      },
      "execution_count": null,
      "outputs": []
    },
    {
      "cell_type": "code",
      "source": [
        "# Setup torch datasets as tensor datasets\n",
        "train_dataset = TensorDataset(X_train_tensor, y_train_tensor)\n",
        "val_dataset = TensorDataset(X_val_tensor, y_val_tensor)\n",
        "test_dataset = TensorDataset(X_test_tensor, y_test_tensor)\n",
        "\n",
        "train1_dataset = TensorDataset(X1_train_tensor, y_train_tensor)\n",
        "val1_dataset = TensorDataset(X1_val_tensor, y_val_tensor)\n",
        "test1_dataset = TensorDataset(X1_test_tensor, y_test_tensor)"
      ],
      "metadata": {
        "id": "bMprcBjOzmry"
      },
      "execution_count": null,
      "outputs": []
    },
    {
      "cell_type": "code",
      "source": [
        "# Setup dataloaders\n",
        "train_loader = DataLoader(train_dataset, shuffle=True, batch_size=32)\n",
        "val_loader = DataLoader(val_dataset, batch_size=32)\n",
        "test_loader = DataLoader(test_dataset, batch_size=32)\n",
        "\n",
        "train1_loader = DataLoader(train1_dataset, shuffle=True, batch_size=32)\n",
        "val1_loader = DataLoader(val1_dataset, batch_size=32)\n",
        "test1_loader = DataLoader(test1_dataset, batch_size=32)"
      ],
      "metadata": {
        "id": "doYW6zg2zmpa"
      },
      "execution_count": null,
      "outputs": []
    },
    {
      "cell_type": "code",
      "metadata": {
        "id": "sBjMZF1wGaUp"
      },
      "source": [
        "# for grader use only\n",
        "\n",
        "# insert grade here  (out of 4)\n",
        "\n",
        "# G[1] = \n",
        "#\n",
        "# please justify point subtractions when needed"
      ],
      "execution_count": null,
      "outputs": []
    },
    {
      "cell_type": "markdown",
      "source": [
        "## <font color = 'blue'> Question 2. Write a functioning classifier in PyTorch </font>\n",
        "\n",
        "Write code that defines a classification model for the above dataset, and all other functions that are needed for its training. Apply your model on the two datsets $X,X_1$ and report the accuracy. The classifier should operate on the GPU. \n",
        "\n",
        "**Hint:** Re-use code we discussed for the Softmax Regression module. "
      ],
      "metadata": {
        "id": "s7I1lmGM0skC"
      }
    },
    {
      "cell_type": "code",
      "source": [
        "# Building classification model\n",
        "def init_model(module):\n",
        "  if type(module) == nn.LazyLinear:\n",
        "    nn.init.xavier_uniform_(module.weight)\n",
        "\n",
        "def accuracy(y_hat, y, averaged=True):\n",
        "  y_hat = y_hat.reshape((-1, y_hat.shape[-1]))\n",
        "  preds = y_hat.argmax(axis=1).type(y.dtype)\n",
        "  compare = (preds == y.reshape(-1)).type(torch.float32)\n",
        "  return compare.mean() if averaged else compare\n",
        "\n",
        "class SoftmaxRegression(nn.Module):\n",
        "  def __init__(self, num_inputs: int, num_classes: int):\n",
        "    super().__init__()\n",
        "    self.net = nn.Sequential(\n",
        "        nn.LazyLinear(num_inputs, num_classes),\n",
        "        nn.ReLU(),\n",
        "    )\n",
        "\n",
        "  def forward(self, X):\n",
        "    return self.net(X)"
      ],
      "metadata": {
        "id": "ugNxYRnCmbe8"
      },
      "execution_count": null,
      "outputs": []
    },
    {
      "cell_type": "code",
      "source": [
        "# Apply model for X\n",
        "epochs = 10\n",
        "lr = 0.01\n",
        "num_classes = len(y_train_tensor.unique())\n",
        "model1 = SoftmaxRegression(num_inputs=200, num_classes=num_classes)\n",
        "model1"
      ],
      "metadata": {
        "colab": {
          "base_uri": "https://localhost:8080/"
        },
        "id": "KfUE21OayIJn",
        "outputId": "5c637616-52cc-490d-8762-168ff52111d0"
      },
      "execution_count": null,
      "outputs": [
        {
          "output_type": "stream",
          "name": "stderr",
          "text": [
            "/usr/local/lib/python3.7/dist-packages/torch/nn/modules/lazy.py:178: UserWarning: Lazy modules are a new feature under heavy development so changes to the API or functionality can happen at any moment.\n",
            "  warnings.warn('Lazy modules are a new feature under heavy development '\n"
          ]
        },
        {
          "output_type": "execute_result",
          "data": {
            "text/plain": [
              "SoftmaxRegression(\n",
              "  (net): Sequential(\n",
              "    (0): LazyLinear(in_features=0, out_features=200, bias=True)\n",
              "    (1): ReLU()\n",
              "  )\n",
              ")"
            ]
          },
          "metadata": {},
          "execution_count": 14
        }
      ]
    },
    {
      "cell_type": "code",
      "source": [
        "# Init weights\n",
        "for x_batch, y_batch in train_loader:\n",
        "  print(x_batch.shape)\n",
        "  _ = model1(x_batch)\n",
        "  break\n",
        "  \n",
        "model1.apply(init_model)"
      ],
      "metadata": {
        "colab": {
          "base_uri": "https://localhost:8080/"
        },
        "id": "2kDOivysyfjG",
        "outputId": "1595211d-39fc-495f-e23b-dd8203cb9daf"
      },
      "execution_count": null,
      "outputs": [
        {
          "output_type": "stream",
          "name": "stdout",
          "text": [
            "torch.Size([32, 200])\n"
          ]
        },
        {
          "output_type": "execute_result",
          "data": {
            "text/plain": [
              "SoftmaxRegression(\n",
              "  (net): Sequential(\n",
              "    (0): Linear(in_features=200, out_features=200, bias=True)\n",
              "    (1): ReLU()\n",
              "  )\n",
              ")"
            ]
          },
          "metadata": {},
          "execution_count": 15
        }
      ]
    },
    {
      "cell_type": "code",
      "source": [
        "# Training set framework\n",
        "def train_model(model, loss_fn, optimizer, train_loader, val_loader, epochs=10):\n",
        "  \"\"\"\n",
        "  Train model\n",
        "  \"\"\"\n",
        "  model.to(device)\n",
        "  train_losses, val_losses = [], []\n",
        "  for epoch in range(epochs):\n",
        "    train_samples = 0\n",
        "    train_acc = 0.0\n",
        "    train_loss = []\n",
        "    for x_batch, y_batch in train_loader:\n",
        "      model.train()\n",
        "      x_batch = x_batch.to(device)\n",
        "      y_batch = y_batch.to(device)\n",
        "      yhat = model(x_batch)\n",
        "      loss = loss_fn(yhat, y_batch.view(-1))\n",
        "      loss.backward()\n",
        "      train_loss.append(loss.item())\n",
        "      optimizer.step()\n",
        "      optimizer.zero_grad()\n",
        "\n",
        "      train_samples += y_batch.shape[0]\n",
        "      train_acc += accuracy(yhat, y_batch)\n",
        "\n",
        "    # Add training loss for epoch\n",
        "    train_losses.append(np.mean(train_loss))\n",
        "\n",
        "    # Validation loop\n",
        "    with torch.no_grad():\n",
        "      val_samples = 0\n",
        "      val_acc = 0.0\n",
        "      val_loss = []\n",
        "      for x_batch, y_batch in val_loader:\n",
        "        model.eval()\n",
        "        x_batch = x_batch.to(device)\n",
        "        y_batch = y_batch.to(device)\n",
        "        yhat = model(x_batch)\n",
        "        loss = loss_fn(yhat, y_batch.view(-1))\n",
        "        val_loss.append(loss.item())\n",
        "        val_samples += y_batch.shape[0]\n",
        "        val_acc += accuracy(yhat, y_batch)\n",
        "    val_losses.append(np.mean(val_loss))\n",
        "\n",
        "    if epoch % 2 == 0:\n",
        "      print(f\"Epoch {epoch} train accuracy: {100.0*train_acc/train_samples:0.3f}, validation accuracy: {100.0*val_acc/val_samples:0.3f}\")\n",
        "\n",
        "  return model, train_losses, val_losses"
      ],
      "metadata": {
        "id": "I4-So3z0y7f5"
      },
      "execution_count": null,
      "outputs": []
    },
    {
      "cell_type": "code",
      "source": [
        "# Baseline X dataset model results\n",
        "loss_fn = nn.CrossEntropyLoss()\n",
        "optimizer = torch.optim.SGD(model1.parameters(), lr=lr)\n",
        "model1, train_losses, val_losses = train_model(model1, loss_fn, optimizer, train_loader, val_loader, epochs)\n",
        "torch.save(model1.state_dict(), \"Baseline-X.pt\")\n",
        "\n",
        "plt.plot(train_losses, label = 'Train loss: Baseline-X')\n",
        "plt.plot(val_losses, label = 'Val loss: Baseline-X')\n",
        "plt.legend()\n",
        "plt.show"
      ],
      "metadata": {
        "id": "aLt3cs0Bnyq3",
        "colab": {
          "base_uri": "https://localhost:8080/",
          "height": 372
        },
        "outputId": "2a04b1da-2d48-49e9-c559-2b3f47354cb8"
      },
      "execution_count": null,
      "outputs": [
        {
          "output_type": "stream",
          "name": "stdout",
          "text": [
            "Epoch 0 train accuracy: 0.554, validation accuracy: 0.239\n",
            "Epoch 2 train accuracy: 0.560, validation accuracy: 0.239\n",
            "Epoch 4 train accuracy: 0.560, validation accuracy: 0.239\n",
            "Epoch 6 train accuracy: 0.560, validation accuracy: 0.239\n",
            "Epoch 8 train accuracy: 0.560, validation accuracy: 0.239\n"
          ]
        },
        {
          "output_type": "execute_result",
          "data": {
            "text/plain": [
              "<function matplotlib.pyplot.show(*args, **kw)>"
            ]
          },
          "metadata": {},
          "execution_count": 17
        },
        {
          "output_type": "display_data",
          "data": {
            "text/plain": [
              "<Figure size 432x288 with 1 Axes>"
            ],
            "image/png": "[encoded data removed]"
          },
          "metadata": {
            "needs_background": "light"
          }
        }
      ]
    },
    {
      "cell_type": "code",
      "source": [
        "# Baseline X1 dataset model\n",
        "model2 = SoftmaxRegression(num_inputs=128, num_classes=num_classes)\n",
        "\n",
        "# Init weights\n",
        "for x_batch, y_batch in train1_loader:\n",
        "  _ = model2(x_batch)\n",
        "  break\n",
        "\n",
        "model2.apply(init_model)"
      ],
      "metadata": {
        "id": "VA2l15YRWJEu",
        "colab": {
          "base_uri": "https://localhost:8080/"
        },
        "outputId": "63e9f859-b12a-45f0-d657-cbf816f12b3c"
      },
      "execution_count": null,
      "outputs": [
        {
          "output_type": "execute_result",
          "data": {
            "text/plain": [
              "SoftmaxRegression(\n",
              "  (net): Sequential(\n",
              "    (0): Linear(in_features=128, out_features=128, bias=True)\n",
              "    (1): ReLU()\n",
              "  )\n",
              ")"
            ]
          },
          "metadata": {},
          "execution_count": 18
        }
      ]
    },
    {
      "cell_type": "code",
      "source": [
        "# Show X1 dataset model results\n",
        "optimizer2 = torch.optim.SGD(model2.parameters(), lr=lr)\n",
        "model2, train_losses2, val_losses2 = train_model(model2, loss_fn, optimizer2, train1_loader, val1_loader, epochs)\n",
        "torch.save(model2.state_dict(), \"Baseline-X1.pt\")\n",
        "\n",
        "plt.plot(train_losses2, label = 'Train loss: Baseline-X1')\n",
        "plt.plot(val_losses2, label = 'Val loss: Baseline-X1')\n",
        "plt.legend()\n",
        "plt.show"
      ],
      "metadata": {
        "id": "cv7CD_M6WJBn",
        "colab": {
          "base_uri": "https://localhost:8080/",
          "height": 370
        },
        "outputId": "7b1c40a5-c8dc-4375-ae79-a14d10df3e3c"
      },
      "execution_count": null,
      "outputs": [
        {
          "output_type": "stream",
          "name": "stdout",
          "text": [
            "Epoch 0 train accuracy: 0.589, validation accuracy: 0.775\n",
            "Epoch 2 train accuracy: 0.978, validation accuracy: 1.097\n",
            "Epoch 4 train accuracy: 1.161, validation accuracy: 1.258\n",
            "Epoch 6 train accuracy: 1.253, validation accuracy: 1.359\n",
            "Epoch 8 train accuracy: 1.306, validation accuracy: 1.421\n"
          ]
        },
        {
          "output_type": "execute_result",
          "data": {
            "text/plain": [
              "<function matplotlib.pyplot.show(*args, **kw)>"
            ]
          },
          "metadata": {},
          "execution_count": 19
        },
        {
          "output_type": "display_data",
          "data": {
            "text/plain": [
              "<Figure size 432x288 with 1 Axes>"
            ],
            "image/png": "[encoded data removed]"
          },
          "metadata": {
            "needs_background": "light"
          }
        }
      ]
    },
    {
      "cell_type": "code",
      "metadata": {
        "id": "jlICv7kW1qte"
      },
      "source": [
        "# for grader use only\n",
        "\n",
        "# insert grade here  (out of 8)\n",
        "\n",
        "# G[2] = \n",
        "#\n",
        "# please justify point subtractions when needed"
      ],
      "execution_count": null,
      "outputs": []
    },
    {
      "cell_type": "markdown",
      "source": [
        "## <font color = 'blue'> Question 3. Maximize the accuracy on the two datasets </font>\n",
        "\n",
        "Augment your classifier from Question-2 with any number and type of layers you want, with the goal to maximize the **validation** accuracy you achieve on the two datasets. Feel free to use any stopping criterion you want for the training process. The networks for $X$ and $X_1$ do not have be of the same architecture. \n",
        "\n",
        "Show your code, and add a text cell summarizing your idea and findings. Finally apply your models to the **test** set, and report the accuracy. Feel free to discuss your validation accuracy on Canvas. Also please avoid looking at the test set, until the very end. \n",
        "\n",
        "**Rubric**: All complete answers get 8 points, and the **top 5** test accuracies reported get an extra 10\\% in the final quiz. "
      ],
      "metadata": {
        "id": "gDmA1ZZL152G"
      }
    },
    {
      "cell_type": "code",
      "source": [
        "# Augmented architecture\n",
        "class SoftmaxRegressionAug(nn.Module):\n",
        "  def __init__(self, num_inputs: int, num_classes: int):\n",
        "    super().__init__()\n",
        "    self.flatten = nn.Flatten()\n",
        "    self.linear = nn.Linear(num_inputs, num_classes)\n",
        "\n",
        "  def forward(self, x):\n",
        "    y = self.flatten(x)\n",
        "    y = self.linear(y)\n",
        "    return y"
      ],
      "metadata": {
        "id": "MpY08euvJpQD"
      },
      "execution_count": null,
      "outputs": []
    },
    {
      "cell_type": "code",
      "source": [
        "# Augmented model for X\n",
        "model3 = SoftmaxRegressionAug(num_inputs=200, num_classes=num_classes)\n",
        "\n",
        "# Init weights\n",
        "for x_batch, y_batch in train_loader:\n",
        "  _ = model3(x_batch)\n",
        "  break\n",
        "\n",
        "model3.apply(init_model)"
      ],
      "metadata": {
        "id": "PZiT9D2BWI8r",
        "colab": {
          "base_uri": "https://localhost:8080/"
        },
        "outputId": "3609f5e1-7976-4545-f466-c7e00ab0f885"
      },
      "execution_count": null,
      "outputs": [
        {
          "output_type": "execute_result",
          "data": {
            "text/plain": [
              "SoftmaxRegressionAug(\n",
              "  (flatten): Flatten(start_dim=1, end_dim=-1)\n",
              "  (linear): Linear(in_features=200, out_features=40, bias=True)\n",
              ")"
            ]
          },
          "metadata": {},
          "execution_count": 22
        }
      ]
    },
    {
      "cell_type": "code",
      "source": [
        "# Show Augmented X model results\n",
        "optimizer3 = torch.optim.Adam(model3.parameters(), lr=lr)\n",
        "model3, train_losses3, val_losses3 = train_model(model3, loss_fn, optimizer3, train_loader, val_loader, epochs)\n",
        "torch.save(model3.state_dict(), \"Augmented-X.pt\")\n",
        "\n",
        "plt.plot(train_losses3, label = 'Train loss: Augmented-X')\n",
        "plt.plot(val_losses3, label = 'Val loss: Augmented-X')\n",
        "plt.legend()\n",
        "plt.show"
      ],
      "metadata": {
        "id": "ilLcJT9TWI3T",
        "colab": {
          "base_uri": "https://localhost:8080/",
          "height": 369
        },
        "outputId": "5da43152-c6ed-402e-a8cc-708831dcd317"
      },
      "execution_count": null,
      "outputs": [
        {
          "output_type": "stream",
          "name": "stdout",
          "text": [
            "Epoch 0 train accuracy: 0.560, validation accuracy: 0.239\n",
            "Epoch 2 train accuracy: 0.600, validation accuracy: 0.266\n",
            "Epoch 4 train accuracy: 0.713, validation accuracy: 0.306\n",
            "Epoch 6 train accuracy: 0.882, validation accuracy: 1.025\n",
            "Epoch 8 train accuracy: 1.143, validation accuracy: 1.061\n"
          ]
        },
        {
          "output_type": "execute_result",
          "data": {
            "text/plain": [
              "<function matplotlib.pyplot.show(*args, **kw)>"
            ]
          },
          "metadata": {},
          "execution_count": 23
        },
        {
          "output_type": "display_data",
          "data": {
            "text/plain": [
              "<Figure size 432x288 with 1 Axes>"
            ],
            "image/png": "[encoded data removed]"
          },
          "metadata": {
            "needs_background": "light"
          }
        }
      ]
    },
    {
      "cell_type": "code",
      "source": [
        "# Augmented X1 model\n",
        "model4 = SoftmaxRegressionAug(num_inputs=128, num_classes=num_classes)\n",
        "\n",
        "# Init weights\n",
        "for x_batch, y_batch in train1_loader:\n",
        "  _ = model4(x_batch)\n",
        "  break\n",
        "\n",
        "model4.apply(init_model)"
      ],
      "metadata": {
        "id": "SyRijMcvWKeV",
        "colab": {
          "base_uri": "https://localhost:8080/"
        },
        "outputId": "f8848d23-d4b2-409e-b831-9f06cfa562f3"
      },
      "execution_count": null,
      "outputs": [
        {
          "output_type": "execute_result",
          "data": {
            "text/plain": [
              "SoftmaxRegressionAug(\n",
              "  (flatten): Flatten(start_dim=1, end_dim=-1)\n",
              "  (linear): Linear(in_features=128, out_features=40, bias=True)\n",
              ")"
            ]
          },
          "metadata": {},
          "execution_count": 24
        }
      ]
    },
    {
      "cell_type": "code",
      "source": [
        "# Show Augmented X1 model results\n",
        "optimizer4 = torch.optim.Adam(model4.parameters(), lr=lr)\n",
        "model4, train_losses4, val_losses4 = train_model(model4, loss_fn, optimizer4, train1_loader, val1_loader, epochs)\n",
        "torch.save(model4.state_dict(), \"Augmented-X1.pt\")\n",
        "\n",
        "plt.plot(train_losses4, label = 'Train loss: Augmented-X1')\n",
        "plt.plot(val_losses4, label = 'Val loss: Augmented-X1')\n",
        "plt.legend()\n",
        "plt.show"
      ],
      "metadata": {
        "colab": {
          "base_uri": "https://localhost:8080/",
          "height": 369
        },
        "id": "xf3Za2-jMhQL",
        "outputId": "4cfcaa40-0ad4-4a17-f949-d83c84b76686"
      },
      "execution_count": null,
      "outputs": [
        {
          "output_type": "stream",
          "name": "stdout",
          "text": [
            "Epoch 0 train accuracy: 1.549, validation accuracy: 1.673\n",
            "Epoch 2 train accuracy: 1.662, validation accuracy: 1.649\n",
            "Epoch 4 train accuracy: 1.673, validation accuracy: 1.689\n",
            "Epoch 6 train accuracy: 1.674, validation accuracy: 1.698\n",
            "Epoch 8 train accuracy: 1.674, validation accuracy: 1.698\n"
          ]
        },
        {
          "output_type": "execute_result",
          "data": {
            "text/plain": [
              "<function matplotlib.pyplot.show(*args, **kw)>"
            ]
          },
          "metadata": {},
          "execution_count": 25
        },
        {
          "output_type": "display_data",
          "data": {
            "text/plain": [
              "<Figure size 432x288 with 1 Axes>"
            ],
            "image/png": "[encoded data removed]"
          },
          "metadata": {
            "needs_background": "light"
          }
        }
      ]
    },
    {
      "cell_type": "code",
      "source": [
        "# Optimized architecture, adding dropout\n",
        "class SoftmaxRegressionOptimized(nn.Module):\n",
        "  def __init__(self, num_inputs: int, num_classes: int):\n",
        "    super().__init__()\n",
        "    self.net = nn.Sequential(\n",
        "        nn.Dropout(0.5),\n",
        "        nn.LazyLinear(num_inputs, num_classes),\n",
        "        nn.ReLU(),\n",
        "    )\n",
        "\n",
        "  def forward(self, X):\n",
        "    return self.net(X)"
      ],
      "metadata": {
        "id": "G7MmXIyoDcN6"
      },
      "execution_count": null,
      "outputs": []
    },
    {
      "cell_type": "code",
      "source": [
        "# Optimized X model\n",
        "model5 = SoftmaxRegressionOptimized(num_inputs=200, num_classes=num_classes)\n",
        "\n",
        "# Init weights\n",
        "for x_batch, y_batch in train_loader:\n",
        "  _ = model5(x_batch)\n",
        "  break\n",
        "\n",
        "model5.apply(init_model)"
      ],
      "metadata": {
        "id": "_-ix48jLWKb6",
        "colab": {
          "base_uri": "https://localhost:8080/"
        },
        "outputId": "e8eee5df-8db2-42fa-aa97-5ff14c3a2b4f"
      },
      "execution_count": null,
      "outputs": [
        {
          "output_type": "execute_result",
          "data": {
            "text/plain": [
              "SoftmaxRegressionOptimized(\n",
              "  (net): Sequential(\n",
              "    (0): Dropout(p=0.5, inplace=False)\n",
              "    (1): Linear(in_features=200, out_features=200, bias=True)\n",
              "    (2): ReLU()\n",
              "  )\n",
              ")"
            ]
          },
          "metadata": {},
          "execution_count": 27
        }
      ]
    },
    {
      "cell_type": "code",
      "source": [
        "# Show Optimized X model results\n",
        "optimizer5 = torch.optim.Adam(model5.parameters(), lr=lr)\n",
        "model5, train_losses5, val_losses5 = train_model(model5, loss_fn, optimizer5, train_loader, val_loader, epochs)\n",
        "torch.save(model5.state_dict(), \"Optimized-X.pt\")\n",
        "\n",
        "plt.plot(train_losses5, label = 'Train loss: Optimized-X')\n",
        "plt.plot(val_losses5, label = 'Val loss: Optimized-X')\n",
        "plt.legend()\n",
        "plt.show"
      ],
      "metadata": {
        "id": "JQnvchPjWKYx",
        "colab": {
          "base_uri": "https://localhost:8080/",
          "height": 369
        },
        "outputId": "d9fe6429-05e4-4691-a73a-614ee35d9410"
      },
      "execution_count": null,
      "outputs": [
        {
          "output_type": "stream",
          "name": "stdout",
          "text": [
            "Epoch 0 train accuracy: 0.556, validation accuracy: 0.239\n",
            "Epoch 2 train accuracy: 0.573, validation accuracy: 0.245\n",
            "Epoch 4 train accuracy: 0.625, validation accuracy: 0.271\n",
            "Epoch 6 train accuracy: 0.669, validation accuracy: 0.302\n",
            "Epoch 8 train accuracy: 0.700, validation accuracy: 0.310\n"
          ]
        },
        {
          "output_type": "execute_result",
          "data": {
            "text/plain": [
              "<function matplotlib.pyplot.show(*args, **kw)>"
            ]
          },
          "metadata": {},
          "execution_count": 28
        },
        {
          "output_type": "display_data",
          "data": {
            "text/plain": [
              "<Figure size 432x288 with 1 Axes>"
            ],
            "image/png": "[encoded data removed]"
          },
          "metadata": {
            "needs_background": "light"
          }
        }
      ]
    },
    {
      "cell_type": "code",
      "source": [
        "# Optimized X1 model\n",
        "model6 = SoftmaxRegressionOptimized(num_inputs=128, num_classes=num_classes)\n",
        "\n",
        "# Init weights\n",
        "for x_batch, y_batch in train1_loader:\n",
        "  _ = model6(x_batch)\n",
        "  break\n",
        "\n",
        "model6.apply(init_model)"
      ],
      "metadata": {
        "id": "ObRpkVm6WKUI",
        "colab": {
          "base_uri": "https://localhost:8080/"
        },
        "outputId": "fa3c7dbf-5c40-4803-82d8-2e569191aa37"
      },
      "execution_count": null,
      "outputs": [
        {
          "output_type": "execute_result",
          "data": {
            "text/plain": [
              "SoftmaxRegressionOptimized(\n",
              "  (net): Sequential(\n",
              "    (0): Dropout(p=0.5, inplace=False)\n",
              "    (1): Linear(in_features=128, out_features=128, bias=True)\n",
              "    (2): ReLU()\n",
              "  )\n",
              ")"
            ]
          },
          "metadata": {},
          "execution_count": 29
        }
      ]
    },
    {
      "cell_type": "code",
      "source": [
        "# Show Optimized X1 model results\n",
        "optimizer6 = torch.optim.Adam(model6.parameters(), lr=lr)\n",
        "model6, train_losses6, val_losses6 = train_model(model6, loss_fn, optimizer6, train1_loader, val1_loader, epochs)\n",
        "torch.save(model6.state_dict(), \"Optimized-X1.pt\")\n",
        "\n",
        "plt.plot(train_losses6, label = 'Train loss: Optimized-X1')\n",
        "plt.plot(val_losses6, label = 'Val loss: Optimized-X1')\n",
        "plt.legend()\n",
        "plt.show"
      ],
      "metadata": {
        "id": "zqu3IE8cWKRP",
        "colab": {
          "base_uri": "https://localhost:8080/",
          "height": 370
        },
        "outputId": "c19cb39b-800e-4ec3-ff16-958dd52f0232"
      },
      "execution_count": null,
      "outputs": [
        {
          "output_type": "stream",
          "name": "stdout",
          "text": [
            "Epoch 0 train accuracy: 1.111, validation accuracy: 1.356\n",
            "Epoch 2 train accuracy: 1.146, validation accuracy: 1.305\n",
            "Epoch 4 train accuracy: 1.195, validation accuracy: 1.526\n",
            "Epoch 6 train accuracy: 1.198, validation accuracy: 1.493\n",
            "Epoch 8 train accuracy: 1.192, validation accuracy: 1.479\n"
          ]
        },
        {
          "output_type": "execute_result",
          "data": {
            "text/plain": [
              "<function matplotlib.pyplot.show(*args, **kw)>"
            ]
          },
          "metadata": {},
          "execution_count": 30
        },
        {
          "output_type": "display_data",
          "data": {
            "text/plain": [
              "<Figure size 432x288 with 1 Axes>"
            ],
            "image/png": "[encoded data removed]"
          },
          "metadata": {
            "needs_background": "light"
          }
        }
      ]
    },
    {
      "cell_type": "markdown",
      "source": [
        "#Evaluation of models on the test set"
      ],
      "metadata": {
        "id": "Me5zLd0KTCrX"
      }
    },
    {
      "cell_type": "code",
      "source": [
        "# Testing model framework\n",
        "def test_model(model, testdata_loader):\n",
        "  with torch.no_grad():\n",
        "    test_samples = 0\n",
        "    test_acc = 0.0\n",
        "    for x_batch, y_batch in testdata_loader:\n",
        "      model.eval()\n",
        "      x_batch = x_batch.to(device)\n",
        "      y_batch = y_batch.to(device)\n",
        "      yhat = model(x_batch)\n",
        "      test_samples += y_batch.shape[0]\n",
        "      test_acc += accuracy(yhat, y_batch)\n",
        "  print(f\"Test accurcay: {100.0*test_acc/test_samples:0.3f}\")"
      ],
      "metadata": {
        "id": "ySrVeueW31b_"
      },
      "execution_count": null,
      "outputs": []
    },
    {
      "cell_type": "code",
      "source": [
        "# Baseline model on test set X\n",
        "model1.load_state_dict(torch.load(\"Baseline-X.pt\"))\n",
        "model1.eval()\n",
        "test_model(model1, test_loader)"
      ],
      "metadata": {
        "colab": {
          "base_uri": "https://localhost:8080/"
        },
        "id": "GkjaspDdTNkk",
        "outputId": "0ed2d61a-f88f-4d1e-ddbd-acbf52e2f03d"
      },
      "execution_count": null,
      "outputs": [
        {
          "output_type": "stream",
          "name": "stdout",
          "text": [
            "Test accurcay: 0.183\n"
          ]
        }
      ]
    },
    {
      "cell_type": "code",
      "source": [
        "# Baseline model on test set X1\n",
        "model2.load_state_dict(torch.load(\"Baseline-X1.pt\"))\n",
        "model2.eval()\n",
        "test_model(model2, test1_loader)"
      ],
      "metadata": {
        "colab": {
          "base_uri": "https://localhost:8080/"
        },
        "id": "n0pG_OjfTcwX",
        "outputId": "d6ea8316-bfea-425a-fc31-880f8574217f"
      },
      "execution_count": null,
      "outputs": [
        {
          "output_type": "stream",
          "name": "stdout",
          "text": [
            "Test accurcay: 1.371\n"
          ]
        }
      ]
    },
    {
      "cell_type": "code",
      "source": [
        "# Augment model on test set X\n",
        "model3.load_state_dict(torch.load(\"Augmented-X.pt\"))\n",
        "model3.eval()\n",
        "test_model(model3, test_loader)"
      ],
      "metadata": {
        "colab": {
          "base_uri": "https://localhost:8080/"
        },
        "id": "3YJmYkKeTcts",
        "outputId": "5dc3097e-80e0-4c4f-ffc2-9b3f5a000f2f"
      },
      "execution_count": null,
      "outputs": [
        {
          "output_type": "stream",
          "name": "stdout",
          "text": [
            "Test accurcay: 0.959\n"
          ]
        }
      ]
    },
    {
      "cell_type": "code",
      "source": [
        "# Augmented model on test set X1\n",
        "model4.load_state_dict(torch.load(\"Augmented-X1.pt\"))\n",
        "model4.eval()\n",
        "test_model(model4, test1_loader)"
      ],
      "metadata": {
        "colab": {
          "base_uri": "https://localhost:8080/"
        },
        "id": "CRDRQajpTNhs",
        "outputId": "db1717cd-768a-4bae-8455-521e89a30815"
      },
      "execution_count": null,
      "outputs": [
        {
          "output_type": "stream",
          "name": "stdout",
          "text": [
            "Test accurcay: 1.620\n"
          ]
        }
      ]
    },
    {
      "cell_type": "code",
      "source": [
        "# Baseline model with Adam on test set X\n",
        "model5.load_state_dict(torch.load(\"Optimized-X.pt\"))\n",
        "model5.eval()\n",
        "test_model(model5, test_loader)"
      ],
      "metadata": {
        "colab": {
          "base_uri": "https://localhost:8080/"
        },
        "id": "nHiLhrbZTtEU",
        "outputId": "2aced022-10db-4fe7-da69-c1527053a53e"
      },
      "execution_count": null,
      "outputs": [
        {
          "output_type": "stream",
          "name": "stdout",
          "text": [
            "Test accurcay: 0.239\n"
          ]
        }
      ]
    },
    {
      "cell_type": "code",
      "source": [
        "# Baseline model with Adam on test set X1\n",
        "model6.load_state_dict(torch.load(\"Optimized-X1.pt\"))\n",
        "model6.eval()\n",
        "test_model(model6, test1_loader)"
      ],
      "metadata": {
        "colab": {
          "base_uri": "https://localhost:8080/"
        },
        "id": "d9LqVf7sTNLb",
        "outputId": "6fa0b9ea-a90f-4004-b2b8-f46f8278d068"
      },
      "execution_count": null,
      "outputs": [
        {
          "output_type": "stream",
          "name": "stdout",
          "text": [
            "Test accurcay: 1.409\n"
          ]
        }
      ]
    },
    {
      "cell_type": "markdown",
      "source": [
        "#Extended Baseline X and X1 models"
      ],
      "metadata": {
        "id": "UCSH52saqjxm"
      }
    },
    {
      "cell_type": "code",
      "source": [
        "# Extended to maximize X accuracy\n",
        "model7 = SoftmaxRegression(num_inputs=200, num_classes=num_classes)\n",
        "\n",
        "# Init weights\n",
        "for x_batch, y_batch in train_loader:\n",
        "  _ = model7(x_batch)\n",
        "  break\n",
        "\n",
        "model7.apply(init_model)"
      ],
      "metadata": {
        "colab": {
          "base_uri": "https://localhost:8080/"
        },
        "id": "ts8M9kMK__7Q",
        "outputId": "850a95f1-be71-4079-c4a3-9a1654813238"
      },
      "execution_count": null,
      "outputs": [
        {
          "output_type": "execute_result",
          "data": {
            "text/plain": [
              "SoftmaxRegression(\n",
              "  (net): Sequential(\n",
              "    (0): Linear(in_features=200, out_features=200, bias=True)\n",
              "    (1): ReLU()\n",
              "  )\n",
              ")"
            ]
          },
          "metadata": {},
          "execution_count": 38
        }
      ]
    },
    {
      "cell_type": "code",
      "source": [
        "# Initialize with higher lr\n",
        "loss_fn = nn.CrossEntropyLoss()\n",
        "optimizer7 = torch.optim.Adam(model7.parameters(), lr=0.1)\n",
        "model7, train_losses7, val_losses7 = train_model(model7, loss_fn, optimizer7, train_loader, val_loader, epochs)\n",
        "torch.save(model7.state_dict(), \"Extended-X.pt\")\n",
        "\n",
        "plt.plot(train_losses7, label = 'Train loss: Extended-X')\n",
        "plt.plot(val_losses7, label = 'Val loss: Extended-X')\n",
        "plt.legend()\n",
        "plt.show"
      ],
      "metadata": {
        "id": "qPPdXBR1y-vL",
        "colab": {
          "base_uri": "https://localhost:8080/",
          "height": 369
        },
        "outputId": "3cdcaf06-5824-4f9d-e4a9-e1355c5a2029"
      },
      "execution_count": null,
      "outputs": [
        {
          "output_type": "stream",
          "name": "stdout",
          "text": [
            "Epoch 0 train accuracy: 0.964, validation accuracy: 1.028\n",
            "Epoch 2 train accuracy: 1.139, validation accuracy: 1.195\n",
            "Epoch 4 train accuracy: 1.183, validation accuracy: 1.092\n",
            "Epoch 6 train accuracy: 1.207, validation accuracy: 1.149\n",
            "Epoch 8 train accuracy: 1.224, validation accuracy: 1.203\n"
          ]
        },
        {
          "output_type": "execute_result",
          "data": {
            "text/plain": [
              "<function matplotlib.pyplot.show(*args, **kw)>"
            ]
          },
          "metadata": {},
          "execution_count": 39
        },
        {
          "output_type": "display_data",
          "data": {
            "text/plain": [
              "<Figure size 432x288 with 1 Axes>"
            ],
            "image/png": "[encoded data removed]"
          },
          "metadata": {
            "needs_background": "light"
          }
        }
      ]
    },
    {
      "cell_type": "code",
      "source": [
        "# Extended to maximize X1 accuracy\n",
        "model8 = SoftmaxRegression(num_inputs=128, num_classes=num_classes)\n",
        "\n",
        "# Init weights\n",
        "for x_batch, y_batch in train1_loader:\n",
        "  _ = model8(x_batch)\n",
        "  break\n",
        "\n",
        "model8.apply(init_model)"
      ],
      "metadata": {
        "id": "17VK95wBqZBQ",
        "colab": {
          "base_uri": "https://localhost:8080/"
        },
        "outputId": "6a586b09-3fc6-4b08-f3ea-8cfa204575fe"
      },
      "execution_count": null,
      "outputs": [
        {
          "output_type": "execute_result",
          "data": {
            "text/plain": [
              "SoftmaxRegression(\n",
              "  (net): Sequential(\n",
              "    (0): Linear(in_features=128, out_features=128, bias=True)\n",
              "    (1): ReLU()\n",
              "  )\n",
              ")"
            ]
          },
          "metadata": {},
          "execution_count": 40
        }
      ]
    },
    {
      "cell_type": "code",
      "source": [
        "# Initialize with higher lr\n",
        "loss_fn = nn.CrossEntropyLoss()\n",
        "optimizer8 = torch.optim.Adam(model8.parameters(), lr=0.1)\n",
        "model8, train_losses8, val_losses8 = train_model(model8, loss_fn, optimizer8, train1_loader, val1_loader, epochs)\n",
        "torch.save(model8.state_dict(), \"Extended-X1.pt\")\n",
        "\n",
        "plt.plot(train_losses8, label = 'Train loss: Extended-X1')\n",
        "plt.plot(val_losses8, label = 'Val loss: Extended-X1')\n",
        "plt.legend()\n",
        "plt.show"
      ],
      "metadata": {
        "colab": {
          "base_uri": "https://localhost:8080/",
          "height": 369
        },
        "id": "_vCSQ8BKC1Db",
        "outputId": "c5485a64-d36f-4225-aca1-a6644f518291"
      },
      "execution_count": null,
      "outputs": [
        {
          "output_type": "stream",
          "name": "stdout",
          "text": [
            "Epoch 0 train accuracy: 0.195, validation accuracy: 0.008\n",
            "Epoch 2 train accuracy: 0.025, validation accuracy: 0.026\n",
            "Epoch 4 train accuracy: 0.019, validation accuracy: 0.010\n",
            "Epoch 6 train accuracy: 0.020, validation accuracy: 0.009\n",
            "Epoch 8 train accuracy: 0.016, validation accuracy: 0.008\n"
          ]
        },
        {
          "output_type": "execute_result",
          "data": {
            "text/plain": [
              "<function matplotlib.pyplot.show(*args, **kw)>"
            ]
          },
          "metadata": {},
          "execution_count": 41
        },
        {
          "output_type": "display_data",
          "data": {
            "text/plain": [
              "<Figure size 432x288 with 1 Axes>"
            ],
            "image/png": "[encoded data removed]"
          },
          "metadata": {
            "needs_background": "light"
          }
        }
      ]
    },
    {
      "cell_type": "markdown",
      "source": [
        "#Extended Augmented X and X1"
      ],
      "metadata": {
        "id": "JiF-bp7_q_kB"
      }
    },
    {
      "cell_type": "code",
      "source": [
        "# Extended training for X\n",
        "model9 = SoftmaxRegressionAug(num_inputs=200, num_classes=num_classes)\n",
        "\n",
        "# Init weights\n",
        "for x_batch, y_batch in train_loader:\n",
        "  _ = model9(x_batch)\n",
        "  break\n",
        "\n",
        "model9.apply(init_model)"
      ],
      "metadata": {
        "colab": {
          "base_uri": "https://localhost:8080/"
        },
        "id": "JmTBFZirErCI",
        "outputId": "1c7793a2-8d70-4183-ab49-462220af0abf"
      },
      "execution_count": null,
      "outputs": [
        {
          "output_type": "execute_result",
          "data": {
            "text/plain": [
              "SoftmaxRegressionAug(\n",
              "  (flatten): Flatten(start_dim=1, end_dim=-1)\n",
              "  (linear): Linear(in_features=200, out_features=40, bias=True)\n",
              ")"
            ]
          },
          "metadata": {},
          "execution_count": 42
        }
      ]
    },
    {
      "cell_type": "code",
      "source": [
        "# Initialize with higher lr\n",
        "loss_fn = nn.CrossEntropyLoss()\n",
        "optimizer9 = torch.optim.Adam(model9.parameters(), lr=0.1)\n",
        "model9, train_losses9, val_losses9 = train_model(model9, loss_fn, optimizer9, train_loader, val_loader, epochs)\n",
        "torch.save(model9.state_dict(), \"Extended-Aug-X.pt\")\n",
        "\n",
        "plt.plot(train_losses9, label = 'Train loss: Extended-Aug-X')\n",
        "plt.plot(val_losses9, label = 'Val loss: Extended-Aug-X')\n",
        "plt.legend()\n",
        "plt.show"
      ],
      "metadata": {
        "colab": {
          "base_uri": "https://localhost:8080/",
          "height": 369
        },
        "id": "yAP5Vbs7Eq-e",
        "outputId": "73ccb900-4982-462e-d38d-57f889bfd36f"
      },
      "execution_count": null,
      "outputs": [
        {
          "output_type": "stream",
          "name": "stdout",
          "text": [
            "Epoch 0 train accuracy: 1.172, validation accuracy: 0.900\n",
            "Epoch 2 train accuracy: 1.439, validation accuracy: 1.210\n",
            "Epoch 4 train accuracy: 1.505, validation accuracy: 1.320\n",
            "Epoch 6 train accuracy: 1.552, validation accuracy: 1.369\n",
            "Epoch 8 train accuracy: 1.584, validation accuracy: 1.332\n"
          ]
        },
        {
          "output_type": "execute_result",
          "data": {
            "text/plain": [
              "<function matplotlib.pyplot.show(*args, **kw)>"
            ]
          },
          "metadata": {},
          "execution_count": 43
        },
        {
          "output_type": "display_data",
          "data": {
            "text/plain": [
              "<Figure size 432x288 with 1 Axes>"
            ],
            "image/png": "[encoded data removed]"
          },
          "metadata": {
            "needs_background": "light"
          }
        }
      ]
    },
    {
      "cell_type": "code",
      "source": [
        "# Extended training for X1\n",
        "model10 = SoftmaxRegressionAug(num_inputs=128, num_classes=num_classes)\n",
        "\n",
        "# Init weights\n",
        "for x_batch, y_batch in train1_loader:\n",
        "  _ = model10(x_batch)\n",
        "  break\n",
        "\n",
        "model10.apply(init_model)"
      ],
      "metadata": {
        "colab": {
          "base_uri": "https://localhost:8080/"
        },
        "id": "LmidpMqGEqzl",
        "outputId": "a22aca7c-8167-457f-da25-e5b9f8771d04"
      },
      "execution_count": null,
      "outputs": [
        {
          "output_type": "execute_result",
          "data": {
            "text/plain": [
              "SoftmaxRegressionAug(\n",
              "  (flatten): Flatten(start_dim=1, end_dim=-1)\n",
              "  (linear): Linear(in_features=128, out_features=40, bias=True)\n",
              ")"
            ]
          },
          "metadata": {},
          "execution_count": 44
        }
      ]
    },
    {
      "cell_type": "code",
      "source": [
        "# Initialize with higher lr\n",
        "loss_fn = nn.CrossEntropyLoss()\n",
        "optimizer10 = torch.optim.Adam(model10.parameters(), lr=0.1)\n",
        "model10, train_losses10, val_losses10 = train_model(model10, loss_fn, optimizer10, train1_loader, val1_loader, epochs)\n",
        "torch.save(model10.state_dict(), \"Extended-Aug-X1.pt\")\n",
        "\n",
        "plt.plot(train_losses10, label = 'Train loss: Extended-Aug-X1')\n",
        "plt.plot(val_losses10, label = 'Val loss: Extended-Aug-X1')\n",
        "plt.legend()\n",
        "plt.show"
      ],
      "metadata": {
        "colab": {
          "base_uri": "https://localhost:8080/",
          "height": 369
        },
        "id": "x9vjRjD3EqvW",
        "outputId": "fba4fa8a-928b-4c57-d766-0fe5514c538e"
      },
      "execution_count": null,
      "outputs": [
        {
          "output_type": "stream",
          "name": "stdout",
          "text": [
            "Epoch 0 train accuracy: 1.233, validation accuracy: 1.360\n",
            "Epoch 2 train accuracy: 1.251, validation accuracy: 1.031\n",
            "Epoch 4 train accuracy: 1.260, validation accuracy: 1.289\n",
            "Epoch 6 train accuracy: 1.262, validation accuracy: 1.098\n",
            "Epoch 8 train accuracy: 1.258, validation accuracy: 1.095\n"
          ]
        },
        {
          "output_type": "execute_result",
          "data": {
            "text/plain": [
              "<function matplotlib.pyplot.show(*args, **kw)>"
            ]
          },
          "metadata": {},
          "execution_count": 45
        },
        {
          "output_type": "display_data",
          "data": {
            "text/plain": [
              "<Figure size 432x288 with 1 Axes>"
            ],
            "image/png": "[encoded data removed]"
          },
          "metadata": {
            "needs_background": "light"
          }
        }
      ]
    },
    {
      "cell_type": "markdown",
      "source": [
        "#Extended Training to maximize results for Optimized X and X1"
      ],
      "metadata": {
        "id": "YFaLD0rHsDvJ"
      }
    },
    {
      "cell_type": "code",
      "source": [
        "# Extended training for X\n",
        "model11 = SoftmaxRegressionOptimized(num_inputs=200, num_classes=num_classes)\n",
        "\n",
        "# Init weights\n",
        "for x_batch, y_batch in train_loader:\n",
        "  _ = model11(x_batch)\n",
        "  break\n",
        "\n",
        "model11.apply(init_model)"
      ],
      "metadata": {
        "colab": {
          "base_uri": "https://localhost:8080/"
        },
        "id": "ZiZozz3DF6mM",
        "outputId": "4b40e738-c789-465b-f123-e4f062cf69c9"
      },
      "execution_count": null,
      "outputs": [
        {
          "output_type": "execute_result",
          "data": {
            "text/plain": [
              "SoftmaxRegressionOptimized(\n",
              "  (net): Sequential(\n",
              "    (0): Dropout(p=0.5, inplace=False)\n",
              "    (1): Linear(in_features=200, out_features=200, bias=True)\n",
              "    (2): ReLU()\n",
              "  )\n",
              ")"
            ]
          },
          "metadata": {},
          "execution_count": 46
        }
      ]
    },
    {
      "cell_type": "code",
      "source": [
        "# Initialize with higher lr\n",
        "loss_fn = nn.CrossEntropyLoss()\n",
        "optimizer11 = torch.optim.Adam(model11.parameters(), lr=0.1)\n",
        "model11, train_losses11, val_losses11 = train_model(model11, loss_fn, optimizer11, train_loader, val_loader, epochs)\n",
        "torch.save(model11.state_dict(), \"Extended-Opt-X.pt\")\n",
        "\n",
        "plt.plot(train_losses11, label = 'Train loss: Extended-Opt-X')\n",
        "plt.plot(val_losses11, label = 'Val loss: Extended-Opt-X')\n",
        "plt.legend()\n",
        "plt.show"
      ],
      "metadata": {
        "colab": {
          "base_uri": "https://localhost:8080/",
          "height": 369
        },
        "id": "ceuLeE2HGFwI",
        "outputId": "e73687d6-f80b-4598-d630-8bf3c305540c"
      },
      "execution_count": null,
      "outputs": [
        {
          "output_type": "stream",
          "name": "stdout",
          "text": [
            "Epoch 0 train accuracy: 0.475, validation accuracy: 0.775\n",
            "Epoch 2 train accuracy: 0.579, validation accuracy: 0.868\n",
            "Epoch 4 train accuracy: 0.611, validation accuracy: 0.865\n",
            "Epoch 6 train accuracy: 0.627, validation accuracy: 0.876\n",
            "Epoch 8 train accuracy: 0.630, validation accuracy: 1.073\n"
          ]
        },
        {
          "output_type": "execute_result",
          "data": {
            "text/plain": [
              "<function matplotlib.pyplot.show(*args, **kw)>"
            ]
          },
          "metadata": {},
          "execution_count": 47
        },
        {
          "output_type": "display_data",
          "data": {
            "text/plain": [
              "<Figure size 432x288 with 1 Axes>"
            ],
            "image/png": "[encoded data removed]"
          },
          "metadata": {
            "needs_background": "light"
          }
        }
      ]
    },
    {
      "cell_type": "code",
      "source": [
        "# Extended training for X1\n",
        "model12 = SoftmaxRegressionOptimized(num_inputs=128, num_classes=num_classes)\n",
        "\n",
        "# Init weights\n",
        "for x_batch, y_batch in train1_loader:\n",
        "  _ = model12(x_batch)\n",
        "  break\n",
        "\n",
        "model12.apply(init_model)"
      ],
      "metadata": {
        "colab": {
          "base_uri": "https://localhost:8080/"
        },
        "id": "IfpaeQ7KGFp2",
        "outputId": "b5e1ed7e-d878-4889-d9d0-3d3053c036ea"
      },
      "execution_count": null,
      "outputs": [
        {
          "output_type": "execute_result",
          "data": {
            "text/plain": [
              "SoftmaxRegressionOptimized(\n",
              "  (net): Sequential(\n",
              "    (0): Dropout(p=0.5, inplace=False)\n",
              "    (1): Linear(in_features=128, out_features=128, bias=True)\n",
              "    (2): ReLU()\n",
              "  )\n",
              ")"
            ]
          },
          "metadata": {},
          "execution_count": 48
        }
      ]
    },
    {
      "cell_type": "code",
      "source": [
        "# Initialize with higher lr\n",
        "loss_fn = nn.CrossEntropyLoss()\n",
        "optimizer12 = torch.optim.Adam(model12.parameters(), lr=0.1)\n",
        "model12, train_losses12, val_losses12 = train_model(model12, loss_fn, optimizer12, train1_loader, val1_loader, epochs)\n",
        "torch.save(model12.state_dict(), \"Extended-Opt-X1.pt\")\n",
        "\n",
        "plt.plot(train_losses12, label = 'Train loss: Extended-Opt-X1')\n",
        "plt.plot(val_losses12, label = 'Val loss: Extended-Opt-X1')\n",
        "plt.legend()\n",
        "plt.show"
      ],
      "metadata": {
        "colab": {
          "base_uri": "https://localhost:8080/",
          "height": 369
        },
        "id": "h_irHbqvGFfC",
        "outputId": "99bef7f3-b11a-4517-e44c-7fc85675a084"
      },
      "execution_count": null,
      "outputs": [
        {
          "output_type": "stream",
          "name": "stdout",
          "text": [
            "Epoch 0 train accuracy: 0.162, validation accuracy: 0.026\n",
            "Epoch 2 train accuracy: 0.061, validation accuracy: 0.017\n",
            "Epoch 4 train accuracy: 0.040, validation accuracy: 0.009\n",
            "Epoch 6 train accuracy: 0.017, validation accuracy: 0.008\n",
            "Epoch 8 train accuracy: 0.015, validation accuracy: 0.008\n"
          ]
        },
        {
          "output_type": "execute_result",
          "data": {
            "text/plain": [
              "<function matplotlib.pyplot.show(*args, **kw)>"
            ]
          },
          "metadata": {},
          "execution_count": 49
        },
        {
          "output_type": "display_data",
          "data": {
            "text/plain": [
              "<Figure size 432x288 with 1 Axes>"
            ],
            "image/png": "[encoded data removed]"
          },
          "metadata": {
            "needs_background": "light"
          }
        }
      ]
    },
    {
      "cell_type": "markdown",
      "source": [
        "#Extended results"
      ],
      "metadata": {
        "id": "5QbmfUjUHU_A"
      }
    },
    {
      "cell_type": "code",
      "source": [
        "# Extended Baseline model on test set X\n",
        "model7.load_state_dict(torch.load(\"Extended-X.pt\"))\n",
        "model7.eval()\n",
        "test_model(model7, test_loader)"
      ],
      "metadata": {
        "colab": {
          "base_uri": "https://localhost:8080/"
        },
        "id": "If2YuebcHXr1",
        "outputId": "aa646bc2-bb26-4e7d-9196-c648ae354a8a"
      },
      "execution_count": null,
      "outputs": [
        {
          "output_type": "stream",
          "name": "stdout",
          "text": [
            "Test accurcay: 1.071\n"
          ]
        }
      ]
    },
    {
      "cell_type": "code",
      "source": [
        "# Extended model on test set X1\n",
        "model8.load_state_dict(torch.load(\"Extended-X1.pt\"))\n",
        "model8.eval()\n",
        "test_model(model8, test1_loader)"
      ],
      "metadata": {
        "colab": {
          "base_uri": "https://localhost:8080/"
        },
        "id": "jTLgKzejHX6C",
        "outputId": "52edea4a-1b64-40aa-c377-d8256fc54443"
      },
      "execution_count": null,
      "outputs": [
        {
          "output_type": "stream",
          "name": "stdout",
          "text": [
            "Test accurcay: 0.004\n"
          ]
        }
      ]
    },
    {
      "cell_type": "code",
      "source": [
        "# Extended model on test set Aug-X\n",
        "model9.load_state_dict(torch.load(\"Extended-Aug-X.pt\"))\n",
        "model9.eval()\n",
        "test_model(model9, test_loader)"
      ],
      "metadata": {
        "colab": {
          "base_uri": "https://localhost:8080/"
        },
        "id": "aGZ4l7QeHX3Z",
        "outputId": "8069f297-c6f3-4237-9a27-42e30ebd7f9a"
      },
      "execution_count": null,
      "outputs": [
        {
          "output_type": "stream",
          "name": "stdout",
          "text": [
            "Test accurcay: 1.289\n"
          ]
        }
      ]
    },
    {
      "cell_type": "code",
      "source": [
        "# Extended model on test set Aug-X1\n",
        "model10.load_state_dict(torch.load(\"Extended-Aug-X1.pt\"))\n",
        "model10.eval()\n",
        "test_model(model10, test1_loader)"
      ],
      "metadata": {
        "colab": {
          "base_uri": "https://localhost:8080/"
        },
        "id": "SWMZpxINHX0t",
        "outputId": "1239ef26-9ea7-4759-956a-9c1069d834a2"
      },
      "execution_count": null,
      "outputs": [
        {
          "output_type": "stream",
          "name": "stdout",
          "text": [
            "Test accurcay: 1.174\n"
          ]
        }
      ]
    },
    {
      "cell_type": "code",
      "source": [
        "# Extended model on test set Optimized-X\n",
        "model11.load_state_dict(torch.load(\"Extended-Opt-X.pt\"))\n",
        "model11.eval()\n",
        "test_model(model11, test_loader)"
      ],
      "metadata": {
        "colab": {
          "base_uri": "https://localhost:8080/"
        },
        "id": "Ed3zTjZtHXxe",
        "outputId": "e2fe176b-cc6b-42a9-c176-bf3b738bfece"
      },
      "execution_count": null,
      "outputs": [
        {
          "output_type": "stream",
          "name": "stdout",
          "text": [
            "Test accurcay: 0.807\n"
          ]
        }
      ]
    },
    {
      "cell_type": "code",
      "source": [
        "# Extended model on test set Optimized-X1\n",
        "model12.load_state_dict(torch.load(\"Extended-Opt-X1.pt\"))\n",
        "model12.eval()\n",
        "test_model(model12, test1_loader)"
      ],
      "metadata": {
        "colab": {
          "base_uri": "https://localhost:8080/"
        },
        "id": "QGIzdA_0HXu1",
        "outputId": "802978aa-e3e3-48ad-ded3-b36977e26580"
      },
      "execution_count": null,
      "outputs": [
        {
          "output_type": "stream",
          "name": "stdout",
          "text": [
            "Test accurcay: 0.003\n"
          ]
        }
      ]
    },
    {
      "cell_type": "code",
      "metadata": {
        "id": "OcYS1afK31cS"
      },
      "source": [
        "# for grader use only\n",
        "\n",
        "# insert grade here  (out of 8)\n",
        "\n",
        "# G[3] = \n",
        "#\n",
        "# please justify point subtractions when needed"
      ],
      "execution_count": null,
      "outputs": []
    },
    {
      "cell_type": "code",
      "source": [
        "# total score\n",
        "max_score = 20\n",
        "$inal_score = sum(G)*(100/max_score)"
      ],
      "metadata": {
        "id": "EZHVWBIjIuoy"
      },
      "execution_count": null,
      "outputs": []
    }
  ]
}